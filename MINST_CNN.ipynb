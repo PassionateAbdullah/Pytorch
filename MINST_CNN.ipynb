{
  "nbformat": 4,
  "nbformat_minor": 0,
  "metadata": {
    "colab": {
      "provenance": [],
      "authorship_tag": "ABX9TyMsm6c5+YQntnLGSWq5UUX4",
      "include_colab_link": true
    },
    "kernelspec": {
      "name": "python3",
      "display_name": "Python 3"
    },
    "language_info": {
      "name": "python"
    }
  },
  "cells": [
    {
      "cell_type": "markdown",
      "metadata": {
        "id": "view-in-github",
        "colab_type": "text"
      },
      "source": [
        "<a href=\"https://colab.research.google.com/github/PassionateAbdullah/Pytorch/blob/main/MINST_CNN.ipynb\" target=\"_parent\"><img src=\"https://colab.research.google.com/assets/colab-badge.svg\" alt=\"Open In Colab\"/></a>"
      ]
    },
    {
      "cell_type": "code",
      "execution_count": null,
      "metadata": {
        "id": "DQDcEuQpmMi6"
      },
      "outputs": [],
      "source": [
        "import torch #core Pytorch library,provides fundamental structure for tensors\n",
        "import torch.nn as nn #Provides ready-to-use layers like Conv2d, Linear, ReLU, MaxPool2d, etc.,\n",
        "import torch.nn.functional as F #Provides functions for activation, loss, and other computations\n",
        "from torch.utils.data import DataLoader #DataLoader helps split the dataset into batches, shuffle data for randomness, and supports parallel data loading\n",
        "from torchvision import datasets, transforms #dataset(Provides easy access to popular datasets like MNIST, CIFAR-10, etc.) and transform(Applies preprocessing to your data.)\n",
        "from torchvision.utils import make_grid #Combines multiple images into a single grid for visualization.\n",
        "\n",
        "import numpy as np\n",
        "import pandas as pd\n",
        "from sklearn.metrics import confusion_matrix\n",
        "import itertools #Helps with iterative operations, such as generating grid combinations for plotting a confusion matrix.\n",
        "from datetime import datetime #Tracks the start and end time of your training/testing processes.Useful for logging and measuring execution time.\n",
        "import time\n",
        "import matplotlib.pyplot as plt"
      ]
    },
    {
      "cell_type": "code",
      "source": [
        "#Convert the image files into 4 dimentional (n of image, height, width , color)\n",
        "transform= transforms.ToTensor()"
      ],
      "metadata": {
        "id": "d3-LYKZCpp4_"
      },
      "execution_count": null,
      "outputs": []
    },
    {
      "cell_type": "code",
      "source": [
        "#Train data\n",
        "train_data= datasets.MNIST(\n",
        "    root='CNN_data',\n",
        "    train=True,\n",
        "    download=True,\n",
        "    transform=transform\n",
        "    )\n",
        "\n",
        "test_data= datasets.MNIST(\n",
        "    root='CNN_data',\n",
        "    train=False,\n",
        "    download=True,\n",
        "    transform=transform\n",
        "    )\n"
      ],
      "metadata": {
        "id": "DjtR8g_avcHO"
      },
      "execution_count": null,
      "outputs": []
    },
    {
      "cell_type": "code",
      "source": [
        "train_data"
      ],
      "metadata": {
        "colab": {
          "base_uri": "https://localhost:8080/"
        },
        "id": "p7lqA31qwAWe",
        "outputId": "8703a4c1-4625-42bf-d577-bd7c86ff005e"
      },
      "execution_count": null,
      "outputs": [
        {
          "output_type": "execute_result",
          "data": {
            "text/plain": [
              "Dataset MNIST\n",
              "    Number of datapoints: 60000\n",
              "    Root location: CNN_data\n",
              "    Split: Train\n",
              "    StandardTransform\n",
              "Transform: ToTensor()"
            ]
          },
          "metadata": {},
          "execution_count": 33
        }
      ]
    },
    {
      "cell_type": "code",
      "source": [
        "#create a small batch size for images...let say 10\n",
        "train_loader = DataLoader(train_data, batch_size=10, shuffle=True)\n",
        "test_loader = DataLoader(test_data, batch_size=10, shuffle=False)"
      ],
      "metadata": {
        "id": "Lua93OulwMJs"
      },
      "execution_count": null,
      "outputs": []
    },
    {
      "cell_type": "code",
      "source": [
        "# Model Class\n",
        "class convolutionalNetwork(nn.Module):\n",
        "  def __init__(self):\n",
        "    super().__init__()\n",
        "    self.conv1 = nn.Conv2d(1,6,3,1)\n",
        "    self.conv2 = nn.Conv2d(6,16,3,1) # Changed nn.Conv2 to nn.Conv2d\n",
        "    #Fully connected layer\n",
        "    self.fc1 = nn.Linear(5*5*16,120)\n",
        "    self.fc2 = nn.Linear(120,84)\n",
        "    self.fc3 = nn.Linear(84,10)\n",
        "\n",
        "  def forward(self,x):\n",
        "    x = F.relu(self.conv1(x))\n",
        "    x = F.max_pool2d(x,2,2) #2*2 kernal and 2 stride\n",
        "    #Second pass\n",
        "    x = F.relu(self.conv2(x))\n",
        "    x = F.max_pool2d(x,2,2) #2*2 kernal and 2 stride\n",
        "\n",
        "    #re-view to flatten it out\n",
        "    x = x.view(-1,5*5*16) #negative 1 cause we can vary the batch size\n",
        "\n",
        "    #Fully connected layers\n",
        "    x = F.relu(self.fc1(x))\n",
        "    x = F.relu(self.fc2(x))\n",
        "    x = self.fc3(x)\n",
        "    return F.log_softmax(x,dim=1)"
      ],
      "metadata": {
        "id": "pfumPScWyTuW"
      },
      "execution_count": null,
      "outputs": []
    },
    {
      "cell_type": "code",
      "source": [
        "#Create an Instance for our model\n",
        "torch.manual_seed(101)\n",
        "model = convolutionalNetwork()\n",
        "model"
      ],
      "metadata": {
        "colab": {
          "base_uri": "https://localhost:8080/"
        },
        "id": "ZRMAeAkr_qPt",
        "outputId": "4d5180eb-299a-4fcf-a2de-b64ceca213c5"
      },
      "execution_count": null,
      "outputs": [
        {
          "output_type": "execute_result",
          "data": {
            "text/plain": [
              "convolutionalNetwork(\n",
              "  (conv1): Conv2d(1, 6, kernel_size=(3, 3), stride=(1, 1))\n",
              "  (conv2): Conv2d(6, 16, kernel_size=(3, 3), stride=(1, 1))\n",
              "  (fc1): Linear(in_features=400, out_features=120, bias=True)\n",
              "  (fc2): Linear(in_features=120, out_features=84, bias=True)\n",
              "  (fc3): Linear(in_features=84, out_features=10, bias=True)\n",
              ")"
            ]
          },
          "metadata": {},
          "execution_count": 36
        }
      ]
    },
    {
      "cell_type": "code",
      "source": [
        "#loss function optimizer\n",
        "criterion= nn.CrossEntropyLoss()\n",
        "optimizer = torch.optim.Adam(model.parameters(),lr=0.001)\n"
      ],
      "metadata": {
        "id": "zBjwi-DrAliA"
      },
      "execution_count": null,
      "outputs": []
    },
    {
      "cell_type": "code",
      "source": [
        "import time\n",
        "start_time = time.time()\n",
        "\n",
        "#create things to track anything\n",
        "epochs = 5\n",
        "train_losses = []\n",
        "test_losses = []\n",
        "train_correct = []\n",
        "test_correct = []\n",
        "\n",
        "#For loop of epochs\n",
        "for i in range(epochs):\n",
        "  trn_corr = 0\n",
        "  tst_corr = 0\n",
        "  #Train\n",
        "  for  b,(x_train,y_train) in enumerate(train_loader):\n",
        "    b+=1 #start our batches at one\n",
        "    y_pred = model(x_train) #get predicted values from training set. Not flattened 2D\n",
        "    loss = criterion(y_pred,y_train) #how off are we? compare prediction to the y_train\n",
        "    predicted = torch.max(y_pred.data,1)[1] #add up the number to the correct prediction,Indexed on the first point\n",
        "    batch_corr = (predicted == y_train).sum() #how many correct we got from the batch if we got 0=false and 1 =true,sum those up\n",
        "    trn_corr += batch_corr #keep track as we go along training\n",
        "\n",
        "    #update our parameter\n",
        "    optimizer.zero_grad()\n",
        "    loss.backward()\n",
        "    optimizer.step()\n",
        "\n",
        "    #Print out some results\n",
        "    if b%600==0:\n",
        "      print(f'epoch: {i}  batch: {b}  loss: {loss.item()}')\n",
        "  train_losses.append(loss)\n",
        "  train_correct.append(trn_corr)\n",
        "\n",
        "\n",
        "  #Test\n",
        "  with torch.no_grad(): #no gradient so we dont update our bias and weight with test data\n",
        "    for b,(x_test,y_test) in enumerate(test_loader):\n",
        "      y_val = model(x_test)\n",
        "      predicted = torch.max(y_val.data,1)[1] #adding up correct prediction\n",
        "      tst_corr += (predicted == y_test).sum()\n",
        "\n",
        "  loss = criterion(y_val,y_test)\n",
        "  test_losses.append(loss)\n",
        "  test_correct.append(tst_corr)\n",
        "\n",
        "\n",
        "current_time=time.time()\n",
        "total=current_time-start_time\n",
        "print(f'Training Took : {total/60} minutes!')"
      ],
      "metadata": {
        "id": "PGYNMteiIkvD",
        "colab": {
          "base_uri": "https://localhost:8080/"
        },
        "outputId": "9baf1855-a99f-4735-e6c8-af7b77cdfb50"
      },
      "execution_count": null,
      "outputs": [
        {
          "output_type": "stream",
          "name": "stdout",
          "text": [
            "epoch: 0  batch: 600  loss: 0.27714279294013977\n",
            "epoch: 0  batch: 1200  loss: 0.05869954079389572\n",
            "epoch: 0  batch: 1800  loss: 0.14001299440860748\n",
            "epoch: 0  batch: 2400  loss: 0.14789725840091705\n",
            "epoch: 0  batch: 3000  loss: 0.015575326979160309\n",
            "epoch: 0  batch: 3600  loss: 0.011459420435130596\n",
            "epoch: 0  batch: 4200  loss: 0.009168890304863453\n",
            "epoch: 0  batch: 4800  loss: 0.00417522294446826\n",
            "epoch: 0  batch: 5400  loss: 0.002396020805463195\n",
            "epoch: 0  batch: 6000  loss: 0.003313155844807625\n",
            "epoch: 1  batch: 600  loss: 0.02910645864903927\n",
            "epoch: 1  batch: 1200  loss: 0.09715400636196136\n",
            "epoch: 1  batch: 1800  loss: 0.0060613942332565784\n",
            "epoch: 1  batch: 2400  loss: 0.022610651329159737\n",
            "epoch: 1  batch: 3000  loss: 0.04838515818119049\n",
            "epoch: 1  batch: 3600  loss: 0.005749894306063652\n",
            "epoch: 1  batch: 4200  loss: 0.25272902846336365\n",
            "epoch: 1  batch: 4800  loss: 0.0002936680684797466\n",
            "epoch: 1  batch: 5400  loss: 0.24952879548072815\n",
            "epoch: 1  batch: 6000  loss: 0.012904241681098938\n",
            "epoch: 2  batch: 600  loss: 0.09780608117580414\n",
            "epoch: 2  batch: 1200  loss: 0.000963487836997956\n",
            "epoch: 2  batch: 1800  loss: 0.001141245593316853\n",
            "epoch: 2  batch: 2400  loss: 0.5337463021278381\n",
            "epoch: 2  batch: 3000  loss: 0.15846773982048035\n",
            "epoch: 2  batch: 3600  loss: 0.008188484236598015\n",
            "epoch: 2  batch: 4200  loss: 0.004836753010749817\n",
            "epoch: 2  batch: 4800  loss: 0.00897577777504921\n",
            "epoch: 2  batch: 5400  loss: 0.0001601819385541603\n",
            "epoch: 2  batch: 6000  loss: 0.0001314394612563774\n",
            "epoch: 3  batch: 600  loss: 0.07603722810745239\n",
            "epoch: 3  batch: 1200  loss: 0.005416658706963062\n",
            "epoch: 3  batch: 1800  loss: 0.0011215140111744404\n",
            "epoch: 3  batch: 2400  loss: 0.0004221698618493974\n",
            "epoch: 3  batch: 3000  loss: 0.0001278524287045002\n",
            "epoch: 3  batch: 3600  loss: 0.003991600126028061\n",
            "epoch: 3  batch: 4200  loss: 0.0018084824550896883\n",
            "epoch: 3  batch: 4800  loss: 0.0001184260836453177\n",
            "epoch: 3  batch: 5400  loss: 0.00017918934463523328\n",
            "epoch: 3  batch: 6000  loss: 0.00581152830272913\n",
            "epoch: 4  batch: 600  loss: 0.013489854522049427\n",
            "epoch: 4  batch: 1200  loss: 0.0009752374025993049\n",
            "epoch: 4  batch: 1800  loss: 0.0187067948281765\n",
            "epoch: 4  batch: 2400  loss: 0.0025625289417803288\n",
            "epoch: 4  batch: 3000  loss: 0.007703062146902084\n",
            "epoch: 4  batch: 3600  loss: 0.00043635969632305205\n",
            "epoch: 4  batch: 4200  loss: 9.397775284014642e-05\n",
            "epoch: 4  batch: 4800  loss: 0.009405107237398624\n",
            "epoch: 4  batch: 5400  loss: 0.0010741250589489937\n",
            "epoch: 4  batch: 6000  loss: 0.0018804275896400213\n",
            "Training Took : 4.480847477912903 minutes!\n"
          ]
        }
      ]
    },
    {
      "cell_type": "code",
      "source": [
        "train_lossest =[t1.item() for t1 in train_losses]\n",
        "test_lossest = [t2.item() for t2 in test_losses] # Detach test losses as well\n",
        "plt.plot(train_lossest,label='training loss') #plot train_losset instead of train_losses\n",
        "plt.plot(test_lossest,label='testing loss') #plot test_losset instead of test_losses\n",
        "plt.title('Loss at the end of each batch')\n",
        "plt.legend()"
      ],
      "metadata": {
        "colab": {
          "base_uri": "https://localhost:8080/",
          "height": 469
        },
        "id": "v1WNH7DZ3OFn",
        "outputId": "b52b42d0-036e-46e8-ff2e-17891d514eac"
      },
      "execution_count": null,
      "outputs": [
        {
          "output_type": "execute_result",
          "data": {
            "text/plain": [
              "<matplotlib.legend.Legend at 0x788a47535390>"
            ]
          },
          "metadata": {},
          "execution_count": 39
        },
        {
          "output_type": "display_data",
          "data": {
            "text/plain": [
              "<Figure size 640x480 with 1 Axes>"
            ],
            "image/png": "[encoded data removed]"
          },
          "metadata": {}
        }
      ]
    },
    {
      "cell_type": "code",
      "source": [
        "test_load_everything = DataLoader(test_data, batch_size=10000, shuffle=False)"
      ],
      "metadata": {
        "id": "NkTjLVwE80gR"
      },
      "execution_count": null,
      "outputs": []
    },
    {
      "cell_type": "code",
      "source": [
        "with torch.no_grad():\n",
        "  correct = 0\n",
        "  for b,(x_test,y_test) in enumerate(test_load_everything):\n",
        "    y_val = model(x_test)\n",
        "    predicted = torch.max(y_val.data,1)[1]\n",
        "    correct += (predicted == y_test).sum()\n",
        "print(f'Test Accuracy: {correct.item()/len(test_data)*100}')"
      ],
      "metadata": {
        "colab": {
          "base_uri": "https://localhost:8080/"
        },
        "id": "Ld_qnEnL88j_",
        "outputId": "b50c8735-03af-44c2-83fe-2596f7766923"
      },
      "execution_count": null,
      "outputs": [
        {
          "output_type": "stream",
          "name": "stdout",
          "text": [
            "Test Accuracy: 98.57000000000001\n"
          ]
        }
      ]
    },
    {
      "cell_type": "code",
      "source": [
        "correct.item()"
      ],
      "metadata": {
        "colab": {
          "base_uri": "https://localhost:8080/"
        },
        "id": "AHczieqgQkB0",
        "outputId": "d3ea7040-fda9-47fe-f01c-a1d9d8a25afc"
      },
      "execution_count": null,
      "outputs": [
        {
          "output_type": "execute_result",
          "data": {
            "text/plain": [
              "9857"
            ]
          },
          "metadata": {},
          "execution_count": 44
        }
      ]
    }
  ]
}