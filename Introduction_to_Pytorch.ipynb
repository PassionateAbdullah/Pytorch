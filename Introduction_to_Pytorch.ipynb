{
  "nbformat": 4,
  "nbformat_minor": 0,
  "metadata": {
    "colab": {
      "provenance": [],
      "authorship_tag": "ABX9TyNaM7OttZonDzH1LVoJEoVl",
      "include_colab_link": true
    },
    "kernelspec": {
      "name": "python3",
      "display_name": "Python 3"
    },
    "language_info": {
      "name": "python"
    }
  },
  "cells": [
    {
      "cell_type": "markdown",
      "metadata": {
        "id": "view-in-github",
        "colab_type": "text"
      },
      "source": [
        "<a href=\"https://colab.research.google.com/github/PassionateAbdullah/Pytorch/blob/main/Introduction_to_Pytorch.ipynb\" target=\"_parent\"><img src=\"https://colab.research.google.com/assets/colab-badge.svg\" alt=\"Open In Colab\"/></a>"
      ]
    },
    {
      "cell_type": "code",
      "source": [
        "# nn module from PyTorch. The nn module provides classes and functions for building neural networks\n",
        "#torch.utils.data.DataLoader and torch.utils.data.Dataset. Dataset stores the samples and their corresponding labels\n",
        "#and DataLoader wraps an iterable around the Dataset.\n",
        "\n",
        "#PyTorch offers domain-specific libraries such as TorchText, TorchVision, and TorchAudio, all of which include datasets.\n",
        "\n",
        "#For this tutorial, we will be using a TorchVision dataset.\n",
        "\n",
        "#(This imports the ToTensor transformation from Torchvision,\n",
        "#This transformation converts images (usually in PIL Image format) into PyTorch tensors and normalizestheir pixel values\n",
        "#to the range [0, 1]. It is often used as a preprocessing step before feeding data into a neural network.)"
      ],
      "metadata": {
        "id": "nF73JFSIQyRF"
      },
      "execution_count": 26,
      "outputs": []
    },
    {
      "cell_type": "code",
      "source": [
        "import torch\n",
        "from torch import nn\n",
        "from torch. utils.data import DataLoader\n",
        "from torchvision import datasets\n",
        "from torchvision.transforms import ToTensor"
      ],
      "metadata": {
        "id": "WdBl1hTeQtGe"
      },
      "execution_count": 27,
      "outputs": []
    },
    {
      "cell_type": "markdown",
      "source": [
        "**Working with Data**"
      ],
      "metadata": {
        "id": "NAMK9pm-gz9_"
      }
    },
    {
      "cell_type": "code",
      "source": [
        "# Download training data from open datasets.\n",
        "training_data = datasets.FashionMNIST(\n",
        "    root=\"data\",\n",
        "    train=True,\n",
        "    download=True,\n",
        "    transform=ToTensor(),\n",
        ")\n",
        "\n",
        "# Download test data from open datasets.\n",
        "test_data = datasets.FashionMNIST(\n",
        "    root=\"data\",\n",
        "    train=False,\n",
        "    download=True,\n",
        "    transform=ToTensor(),\n",
        ")"
      ],
      "metadata": {
        "id": "WsEc9j0HKClX"
      },
      "execution_count": 28,
      "outputs": []
    },
    {
      "cell_type": "code",
      "source": [
        "batch_size = 64\n",
        "\n",
        "# Create data loaders.\n",
        "train_dataloader = DataLoader(training_data, batch_size=batch_size)\n",
        "test_dataloader = DataLoader(test_data, batch_size=batch_size)\n",
        "\n",
        "for X, y in test_dataloader: # loop iterates over the batches in test_dataloader, x(input data, typically images),y(output data)\n",
        "    print(f\"Shape of X [N, C, H, W]: {X.shape}\") # N(batch size), C(Number of channel eg : 1 for MNIST, 3 for RGB), H,w(height and width of image)\n",
        "    print(f\"Shape of y: {y.shape} {y.dtype}\")\n",
        "    break"
      ],
      "metadata": {
        "colab": {
          "base_uri": "https://localhost:8080/"
        },
        "id": "GB-TfPlkODOF",
        "outputId": "fd5515cb-4ef9-45a6-cfa8-bea5eec38998"
      },
      "execution_count": 29,
      "outputs": [
        {
          "output_type": "stream",
          "name": "stdout",
          "text": [
            "Shape of X [N, C, H, W]: torch.Size([64, 1, 28, 28])\n",
            "Shape of y: torch.Size([64]) torch.int64\n"
          ]
        }
      ]
    },
    {
      "cell_type": "code",
      "source": [
        "# Get cpu, gpu or mps device for training.\n",
        "device = (\n",
        "    \"cuda\"\n",
        "    if torch.cuda.is_available()\n",
        "    else \"mps\"\n",
        "    if torch.backends.mps.is_available()\n",
        "    else \"cpu\"\n",
        ")\n",
        "print(f\"Using {device} device\")"
      ],
      "metadata": {
        "colab": {
          "base_uri": "https://localhost:8080/"
        },
        "id": "C8Dr6GTUfm9e",
        "outputId": "503a4cb6-f9d7-4e9d-984d-720a6f846fa9"
      },
      "execution_count": 30,
      "outputs": [
        {
          "output_type": "stream",
          "name": "stdout",
          "text": [
            "Using cpu device\n"
          ]
        }
      ]
    },
    {
      "cell_type": "markdown",
      "source": [
        "**Creating Models**"
      ],
      "metadata": {
        "id": "76nabicvgmgu"
      }
    },
    {
      "cell_type": "code",
      "source": [
        "# Define model\n",
        "class NeuralNetwork(nn.Module): #nn.module is base class of PyTorch, providing essential functionalities like parameter management and forward pass definition.\n",
        "    def __init__(self): #The constructor initializes the components of the neural network.\n",
        "        super().__init__() #Essential for setting up PyTorch’s internal structures for handling layers and parameters\n",
        "        self.flatten = nn.Flatten() #A layer that reshapes the input tensor into a 1D vector\n",
        "        self.linear_relu_stack = nn.Sequential(  #Combines multiple layers in a specified sequence.\n",
        "            nn.Linear(28*28, 512),\n",
        "            nn.ReLU(),\n",
        "            nn.Linear(512, 512),\n",
        "            nn.ReLU(),\n",
        "            nn.Linear(512, 10)\n",
        "        )\n",
        "\n",
        "    def forward(self, x):\n",
        "        x = self.flatten(x)\n",
        "        logits = self.linear_relu_stack(x)\n",
        "        return logits\n",
        "\n",
        "model = NeuralNetwork().to(device)\n",
        "print(model)"
      ],
      "metadata": {
        "colab": {
          "base_uri": "https://localhost:8080/"
        },
        "id": "TUlOlO05gW0N",
        "outputId": "7f78a207-08f7-424d-a0c2-dee0d78a482c"
      },
      "execution_count": 45,
      "outputs": [
        {
          "output_type": "stream",
          "name": "stdout",
          "text": [
            "NeuralNetwork(\n",
            "  (flatten): Flatten(start_dim=1, end_dim=-1)\n",
            "  (linear_relu_stack): Sequential(\n",
            "    (0): Linear(in_features=784, out_features=512, bias=True)\n",
            "    (1): ReLU()\n",
            "    (2): Linear(in_features=512, out_features=512, bias=True)\n",
            "    (3): ReLU()\n",
            "    (4): Linear(in_features=512, out_features=10, bias=True)\n",
            "  )\n",
            ")\n"
          ]
        }
      ]
    },
    {
      "cell_type": "markdown",
      "source": [
        "**Optimizing the Model Parameters**"
      ],
      "metadata": {
        "id": "he8rilK8qD_P"
      }
    },
    {
      "cell_type": "code",
      "source": [
        "loss_fn = nn.CrossEntropyLoss()\n",
        "optimizer = torch.optim.SGD(model.parameters(), lr=1e-3)"
      ],
      "metadata": {
        "id": "0bPseE33qIqO"
      },
      "execution_count": 46,
      "outputs": []
    },
    {
      "cell_type": "markdown",
      "source": [
        "**Summary of Function Behavior:**\n",
        "\n",
        "* Loops through all the batches of data in the dataloader.   \n",
        "\n",
        "*   Moves data to the appropriate device (CPU/GPU).\n",
        "\n",
        "*  Computes the predictions, loss, and gradients using backpropagation.\n",
        "*   Updates the model parameters using the optimizer.\n",
        "\n",
        "\n",
        "*   \n",
        "Resets gradients for the next batch.\n",
        "Logs progress every 100 batches\n",
        "\n"
      ],
      "metadata": {
        "id": "7A85zB3rvQoY"
      }
    },
    {
      "cell_type": "code",
      "source": [
        "def train(dataloader, model, loss_fn, optimizer):\n",
        "    size = len(dataloader.dataset)\n",
        "    model.train()\n",
        "    for batch, (X, y) in enumerate(dataloader):\n",
        "        X, y = X.to(device), y.to(device)\n",
        "\n",
        "        # Compute prediction error\n",
        "        pred = model(X)\n",
        "        loss = loss_fn(pred,y)\n",
        "\n",
        "        # Backpropagation\n",
        "        loss.backward()  #(calculate loss of the gradients using backpropagation)\n",
        "        optimizer.step() #update the model parameter (weight)  using the calculated gradients based on the optimization algorithm (e.g., SGD or Adam).\n",
        "        optimizer.zero_grad() #Resets the gradients to zero to prevent accumulation from previous batches\n",
        "\n",
        "        if batch % 100 == 0:\n",
        "            loss, current = loss.item(), (batch + 1) * len(X)\n",
        "            print(f\"loss: {loss:>7f}  [{current:>5d}/{size:>5d}]\")"
      ],
      "metadata": {
        "id": "bAQlsWb6rtHA"
      },
      "execution_count": 47,
      "outputs": []
    },
    {
      "cell_type": "code",
      "source": [
        "def test(dataloader, model, loss_fn):\n",
        "    size = len(dataloader.dataset)\n",
        "    num_batches = len(dataloader)\n",
        "    model.eval()\n",
        "    test_loss, correct = 0, 0\n",
        "    with torch.no_grad():\n",
        "        for X, y in dataloader:\n",
        "            X, y = X.to(device), y.to(device)\n",
        "            pred = model(X)\n",
        "            test_loss += loss_fn(pred, y).item()\n",
        "            correct += (pred.argmax(1) == y).type(torch.float).sum().item()\n",
        "    test_loss /= num_batches\n",
        "    correct /= size\n",
        "    print(f\"Test Error: \\n Accuracy: {(100*correct):>0.1f}%, Avg loss: {test_loss:>8f} \\n\")"
      ],
      "metadata": {
        "id": "1lF9ltGnrzR-"
      },
      "execution_count": 48,
      "outputs": []
    },
    {
      "cell_type": "code",
      "source": [
        "epochs = 10\n",
        "for t in range(epochs):\n",
        "    print(f\"Epoch {t+1}\\n-------------------------------\")\n",
        "    train(train_dataloader, model, loss_fn, optimizer)\n",
        "    test(test_dataloader, model, loss_fn)\n",
        "print(\"Done!\")"
      ],
      "metadata": {
        "colab": {
          "base_uri": "https://localhost:8080/"
        },
        "id": "5gBVvs3VzrLB",
        "outputId": "21edf5de-4640-491c-813a-6e246b1b54dc"
      },
      "execution_count": 49,
      "outputs": [
        {
          "output_type": "stream",
          "name": "stdout",
          "text": [
            "Epoch 1\n",
            "-------------------------------\n",
            "loss: 2.317433  [   64/60000]\n",
            "loss: 2.301911  [ 6464/60000]\n",
            "loss: 2.276635  [12864/60000]\n",
            "loss: 2.258814  [19264/60000]\n",
            "loss: 2.263512  [25664/60000]\n",
            "loss: 2.217347  [32064/60000]\n",
            "loss: 2.226463  [38464/60000]\n",
            "loss: 2.197318  [44864/60000]\n",
            "loss: 2.201909  [51264/60000]\n",
            "loss: 2.146499  [57664/60000]\n",
            "Test Error: \n",
            " Accuracy: 40.0%, Avg loss: 2.153066 \n",
            "\n",
            "Epoch 2\n",
            "-------------------------------\n",
            "loss: 2.174035  [   64/60000]\n",
            "loss: 2.159921  [ 6464/60000]\n",
            "loss: 2.098202  [12864/60000]\n",
            "loss: 2.108566  [19264/60000]\n",
            "loss: 2.064562  [25664/60000]\n",
            "loss: 1.999920  [32064/60000]\n",
            "loss: 2.024896  [38464/60000]\n",
            "loss: 1.948643  [44864/60000]\n",
            "loss: 1.964404  [51264/60000]\n",
            "loss: 1.870773  [57664/60000]\n",
            "Test Error: \n",
            " Accuracy: 57.5%, Avg loss: 1.878069 \n",
            "\n",
            "Epoch 3\n",
            "-------------------------------\n",
            "loss: 1.915822  [   64/60000]\n",
            "loss: 1.884043  [ 6464/60000]\n",
            "loss: 1.763600  [12864/60000]\n",
            "loss: 1.804558  [19264/60000]\n",
            "loss: 1.693933  [25664/60000]\n",
            "loss: 1.644192  [32064/60000]\n",
            "loss: 1.660735  [38464/60000]\n",
            "loss: 1.564183  [44864/60000]\n",
            "loss: 1.595544  [51264/60000]\n",
            "loss: 1.476033  [57664/60000]\n",
            "Test Error: \n",
            " Accuracy: 60.2%, Avg loss: 1.503815 \n",
            "\n",
            "Epoch 4\n",
            "-------------------------------\n",
            "loss: 1.570885  [   64/60000]\n",
            "loss: 1.537824  [ 6464/60000]\n",
            "loss: 1.386416  [12864/60000]\n",
            "loss: 1.461910  [19264/60000]\n",
            "loss: 1.341389  [25664/60000]\n",
            "loss: 1.338963  [32064/60000]\n",
            "loss: 1.347832  [38464/60000]\n",
            "loss: 1.272070  [44864/60000]\n",
            "loss: 1.310930  [51264/60000]\n",
            "loss: 1.206782  [57664/60000]\n",
            "Test Error: \n",
            " Accuracy: 63.5%, Avg loss: 1.238436 \n",
            "\n",
            "Epoch 5\n",
            "-------------------------------\n",
            "loss: 1.315043  [   64/60000]\n",
            "loss: 1.298073  [ 6464/60000]\n",
            "loss: 1.130228  [12864/60000]\n",
            "loss: 1.242337  [19264/60000]\n",
            "loss: 1.118169  [25664/60000]\n",
            "loss: 1.143381  [32064/60000]\n",
            "loss: 1.161770  [38464/60000]\n",
            "loss: 1.091965  [44864/60000]\n",
            "loss: 1.137102  [51264/60000]\n",
            "loss: 1.053536  [57664/60000]\n",
            "Test Error: \n",
            " Accuracy: 65.2%, Avg loss: 1.076539 \n",
            "\n",
            "Epoch 6\n",
            "-------------------------------\n",
            "loss: 1.147159  [   64/60000]\n",
            "loss: 1.149993  [ 6464/60000]\n",
            "loss: 0.963478  [12864/60000]\n",
            "loss: 1.105442  [19264/60000]\n",
            "loss: 0.981708  [25664/60000]\n",
            "loss: 1.012263  [32064/60000]\n",
            "loss: 1.048463  [38464/60000]\n",
            "loss: 0.977988  [44864/60000]\n",
            "loss: 1.025050  [51264/60000]\n",
            "loss: 0.958513  [57664/60000]\n",
            "Test Error: \n",
            " Accuracy: 66.2%, Avg loss: 0.972690 \n",
            "\n",
            "Epoch 7\n",
            "-------------------------------\n",
            "loss: 1.030752  [   64/60000]\n",
            "loss: 1.054231  [ 6464/60000]\n",
            "loss: 0.849911  [12864/60000]\n",
            "loss: 1.013465  [19264/60000]\n",
            "loss: 0.895137  [25664/60000]\n",
            "loss: 0.920366  [32064/60000]\n",
            "loss: 0.974731  [38464/60000]\n",
            "loss: 0.904256  [44864/60000]\n",
            "loss: 0.948569  [51264/60000]\n",
            "loss: 0.895331  [57664/60000]\n",
            "Test Error: \n",
            " Accuracy: 67.6%, Avg loss: 0.902272 \n",
            "\n",
            "Epoch 8\n",
            "-------------------------------\n",
            "loss: 0.945631  [   64/60000]\n",
            "loss: 0.987800  [ 6464/60000]\n",
            "loss: 0.769376  [12864/60000]\n",
            "loss: 0.948480  [19264/60000]\n",
            "loss: 0.837295  [25664/60000]\n",
            "loss: 0.853692  [32064/60000]\n",
            "loss: 0.922958  [38464/60000]\n",
            "loss: 0.855097  [44864/60000]\n",
            "loss: 0.894143  [51264/60000]\n",
            "loss: 0.850460  [57664/60000]\n",
            "Test Error: \n",
            " Accuracy: 68.5%, Avg loss: 0.851890 \n",
            "\n",
            "Epoch 9\n",
            "-------------------------------\n",
            "loss: 0.880320  [   64/60000]\n",
            "loss: 0.938329  [ 6464/60000]\n",
            "loss: 0.709939  [12864/60000]\n",
            "loss: 0.900157  [19264/60000]\n",
            "loss: 0.796245  [25664/60000]\n",
            "loss: 0.803877  [32064/60000]\n",
            "loss: 0.883459  [38464/60000]\n",
            "loss: 0.820844  [44864/60000]\n",
            "loss: 0.853629  [51264/60000]\n",
            "loss: 0.816097  [57664/60000]\n",
            "Test Error: \n",
            " Accuracy: 69.6%, Avg loss: 0.813784 \n",
            "\n",
            "Epoch 10\n",
            "-------------------------------\n",
            "loss: 0.827849  [   64/60000]\n",
            "loss: 0.898879  [ 6464/60000]\n",
            "loss: 0.664160  [12864/60000]\n",
            "loss: 0.862816  [19264/60000]\n",
            "loss: 0.765159  [25664/60000]\n",
            "loss: 0.765596  [32064/60000]\n",
            "loss: 0.851241  [38464/60000]\n",
            "loss: 0.795581  [44864/60000]\n",
            "loss: 0.822000  [51264/60000]\n",
            "loss: 0.788283  [57664/60000]\n",
            "Test Error: \n",
            " Accuracy: 71.0%, Avg loss: 0.783397 \n",
            "\n",
            "Done!\n"
          ]
        }
      ]
    },
    {
      "cell_type": "markdown",
      "source": [
        "**Saving Model**"
      ],
      "metadata": {
        "id": "QQnnjh5U2Ppo"
      }
    },
    {
      "cell_type": "code",
      "source": [
        "torch.save(model.state_dict(), \"model.pth\")\n",
        "print(\"Saved PyTorch Model State to model.pth\")"
      ],
      "metadata": {
        "colab": {
          "base_uri": "https://localhost:8080/"
        },
        "id": "naTXXluU2Izq",
        "outputId": "10b7aaa5-3645-4b7b-ec4e-95af01472543"
      },
      "execution_count": 50,
      "outputs": [
        {
          "output_type": "stream",
          "name": "stdout",
          "text": [
            "Saved PyTorch Model State to model.pth\n"
          ]
        }
      ]
    },
    {
      "cell_type": "markdown",
      "source": [
        "**Loading Model**"
      ],
      "metadata": {
        "id": "92ajPgDE2gkz"
      }
    },
    {
      "cell_type": "code",
      "source": [
        "model = NeuralNetwork().to(device)\n",
        "model.load_state_dict(torch.load(\"model.pth\", weights_only=True))"
      ],
      "metadata": {
        "colab": {
          "base_uri": "https://localhost:8080/"
        },
        "id": "f34FhI2I2kuG",
        "outputId": "27ed30fc-d23a-49fa-8e4e-03b199be3140"
      },
      "execution_count": 51,
      "outputs": [
        {
          "output_type": "execute_result",
          "data": {
            "text/plain": [
              "<All keys matched successfully>"
            ]
          },
          "metadata": {},
          "execution_count": 51
        }
      ]
    },
    {
      "cell_type": "code",
      "source": [
        "classes = [\n",
        "    \"T-shirt/top\",\n",
        "    \"Trouser\",\n",
        "    \"Pullover\",\n",
        "    \"Dress\",\n",
        "    \"Coat\",\n",
        "    \"Sandal\",\n",
        "    \"Shirt\",\n",
        "    \"Sneaker\",\n",
        "    \"Bag\",\n",
        "    \"Ankle boot\",\n",
        "]\n",
        "\n",
        "model.eval()\n",
        "x, y = test_data[0][0], test_data[0][1]\n",
        "with torch.no_grad():\n",
        "    x = x.to(device)\n",
        "    pred = model(x)\n",
        "    predicted, actual = classes[pred[0].argmax(0)], classes[y]\n",
        "    print(f'Predicted: \"{predicted}\", Actual: \"{actual}\"')"
      ],
      "metadata": {
        "colab": {
          "base_uri": "https://localhost:8080/"
        },
        "id": "gZj3-rtS2l0q",
        "outputId": "cecbec44-b6f8-435d-92ac-2ae9dc6a093e"
      },
      "execution_count": 52,
      "outputs": [
        {
          "output_type": "stream",
          "name": "stdout",
          "text": [
            "Predicted: \"Ankle boot\", Actual: \"Ankle boot\"\n"
          ]
        }
      ]
    }
  ]
}